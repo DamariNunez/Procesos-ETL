{
 "cells": [
  {
   "cell_type": "code",
   "execution_count": 3,
   "id": "7f3250f8",
   "metadata": {
    "scrolled": true
   },
   "outputs": [
    {
     "name": "stdout",
     "output_type": "stream",
     "text": [
      "Collecting pandas\n",
      "  Downloading pandas-1.5.1-cp310-cp310-win_amd64.whl (10.4 MB)\n",
      "     ---------------------------------------- 10.4/10.4 MB 2.2 MB/s eta 0:00:00\n",
      "Requirement already satisfied: pytz>=2020.1 in c:\\users\\nico_\\appdata\\local\\programs\\python\\python310\\lib\\site-packages (from pandas) (2022.1)\n",
      "Requirement already satisfied: python-dateutil>=2.8.1 in c:\\users\\nico_\\appdata\\local\\programs\\python\\python310\\lib\\site-packages (from pandas) (2.8.2)\n",
      "Collecting numpy>=1.21.0\n",
      "  Downloading numpy-1.23.4-cp310-cp310-win_amd64.whl (14.6 MB)\n",
      "     ---------------------------------------- 14.6/14.6 MB 2.7 MB/s eta 0:00:00\n",
      "Requirement already satisfied: six>=1.5 in c:\\users\\nico_\\appdata\\local\\programs\\python\\python310\\lib\\site-packages (from python-dateutil>=2.8.1->pandas) (1.16.0)\n",
      "Installing collected packages: numpy, pandas\n",
      "Successfully installed numpy-1.23.4 pandas-1.5.1\n",
      "Note: you may need to restart the kernel to use updated packages.\n"
     ]
    },
    {
     "name": "stderr",
     "output_type": "stream",
     "text": [
      "WARNING: Ignoring invalid distribution -ymongo (c:\\users\\nico_\\appdata\\local\\programs\\python\\python310\\lib\\site-packages)\n",
      "WARNING: Ignoring invalid distribution -ymongo (c:\\users\\nico_\\appdata\\local\\programs\\python\\python310\\lib\\site-packages)\n",
      "WARNING: Ignoring invalid distribution -ymongo (c:\\users\\nico_\\appdata\\local\\programs\\python\\python310\\lib\\site-packages)\n",
      "WARNING: Ignoring invalid distribution -ymongo (c:\\users\\nico_\\appdata\\local\\programs\\python\\python310\\lib\\site-packages)\n",
      "WARNING: Ignoring invalid distribution -ymongo (c:\\users\\nico_\\appdata\\local\\programs\\python\\python310\\lib\\site-packages)\n",
      "WARNING: Ignoring invalid distribution -ymongo (c:\\users\\nico_\\appdata\\local\\programs\\python\\python310\\lib\\site-packages)\n",
      "WARNING: Ignoring invalid distribution -ymongo (c:\\users\\nico_\\appdata\\local\\programs\\python\\python310\\lib\\site-packages)\n",
      "WARNING: Ignoring invalid distribution -ymongo (c:\\users\\nico_\\appdata\\local\\programs\\python\\python310\\lib\\site-packages)\n",
      "WARNING: You are using pip version 22.0.4; however, version 22.3 is available.\n",
      "You should consider upgrading via the 'C:\\Users\\nico_\\AppData\\Local\\Programs\\Python\\Python310\\python.exe -m pip install --upgrade pip' command.\n"
     ]
    }
   ],
   "source": [
    "pip install pandas"
   ]
  },
  {
   "cell_type": "code",
   "execution_count": 87,
   "id": "dedce6a1",
   "metadata": {},
   "outputs": [],
   "source": [
    "import pandas as pd"
   ]
  },
  {
   "cell_type": "markdown",
   "id": "cf702957",
   "metadata": {},
   "source": [
    "Importamos el csv a Jupiter."
   ]
  },
  {
   "cell_type": "code",
   "execution_count": 88,
   "id": "e9bad697",
   "metadata": {},
   "outputs": [],
   "source": [
    "df = pd.read_csv(\"Covid Live.csv\");"
   ]
  },
  {
   "cell_type": "code",
   "execution_count": 89,
   "id": "59d8fb3f",
   "metadata": {},
   "outputs": [
    {
     "data": {
      "text/plain": [
       "pandas.core.frame.DataFrame"
      ]
     },
     "execution_count": 89,
     "metadata": {},
     "output_type": "execute_result"
    }
   ],
   "source": [
    "type(df)"
   ]
  },
  {
   "cell_type": "markdown",
   "id": "097d1e6d",
   "metadata": {},
   "source": [
    "Analizamos alguna propiedades para poder identificar los valores innecesarios, ver si es necesario cambiar formatos, quitar variable, rellenar datos perdidos, etc."
   ]
  },
  {
   "cell_type": "code",
   "execution_count": 90,
   "id": "f4933c3e",
   "metadata": {},
   "outputs": [
    {
     "name": "stdout",
     "output_type": "stream",
     "text": [
      "   # Country,\\nOther Total\\nCases Total\\nDeaths  New\\nDeaths Total\\nRecovered  \\\n",
      "0  1             USA   98,166,904     1,084,282          NaN       94,962,112   \n",
      "1  2           India   44,587,307       528,629          NaN       44,019,095   \n",
      "2  3          France   35,342,950       155,078          NaN       34,527,115   \n",
      "3  4          Brazil   34,706,757       686,027          NaN       33,838,636   \n",
      "4  5         Germany   33,312,373       149,948          NaN       32,315,200   \n",
      "\n",
      "  Active\\nCases Serious,\\nCritical Tot Cases/\\n1M pop Deaths/\\n1M pop  \\\n",
      "0     2,120,510              2,970            293,206           3,239   \n",
      "1        39,583                698             31,698             376   \n",
      "2       660,757                869            538,892           2,365   \n",
      "3       182,094              8,318            161,162           3,186   \n",
      "4       847,225              1,406            397,126           1,788   \n",
      "\n",
      "    Total\\nTests Tests/\\n1M pop     Population  \n",
      "0  1,118,158,870      3,339,729    334,805,269  \n",
      "1    894,416,853        635,857  1,406,631,776  \n",
      "2    271,490,188      4,139,547     65,584,518  \n",
      "3     63,776,166        296,146    215,353,593  \n",
      "4    122,332,384      1,458,359     83,883,596  \n"
     ]
    }
   ],
   "source": [
    "print(df.head())"
   ]
  },
  {
   "cell_type": "code",
   "execution_count": 91,
   "id": "dcfe746c",
   "metadata": {},
   "outputs": [
    {
     "name": "stdout",
     "output_type": "stream",
     "text": [
      "       # Country,\\nOther Total\\nCases Total\\nDeaths  New\\nDeaths  \\\n",
      "225  226            Niue           80           NaN          NaN   \n",
      "226  227    Vatican City           29           NaN          NaN   \n",
      "227  228          Tuvalu           20           NaN          NaN   \n",
      "228  229  Western Sahara           10             1          NaN   \n",
      "229  230      MS Zaandam            9             2          NaN   \n",
      "\n",
      "    Total\\nRecovered Active\\nCases Serious,\\nCritical Tot Cases/\\n1M pop  \\\n",
      "225               80             0                NaN             49,322   \n",
      "226               29             0                NaN             36,295   \n",
      "227              NaN            20                NaN              1,658   \n",
      "228                9             0                NaN                 16   \n",
      "229                7             0                NaN                NaN   \n",
      "\n",
      "    Deaths/\\n1M pop Total\\nTests Tests/\\n1M pop Population  \n",
      "225             NaN          NaN            NaN      1,622  \n",
      "226             NaN          NaN            NaN        799  \n",
      "227             NaN          NaN            NaN     12,066  \n",
      "228               2          NaN            NaN    626,161  \n",
      "229             NaN          NaN            NaN        NaN  \n"
     ]
    }
   ],
   "source": [
    "print(df.tail())"
   ]
  },
  {
   "cell_type": "code",
   "execution_count": 92,
   "id": "a7971b93",
   "metadata": {},
   "outputs": [
    {
     "name": "stdout",
     "output_type": "stream",
     "text": [
      "(230, 13)\n"
     ]
    }
   ],
   "source": [
    "print(df.shape)"
   ]
  },
  {
   "cell_type": "code",
   "execution_count": 93,
   "id": "03f6d149",
   "metadata": {},
   "outputs": [
    {
     "name": "stdout",
     "output_type": "stream",
     "text": [
      "Index(['#', 'Country,\\nOther', 'Total\\nCases', 'Total\\nDeaths', 'New\\nDeaths',\n",
      "       'Total\\nRecovered', 'Active\\nCases', 'Serious,\\nCritical',\n",
      "       'Tot Cases/\\n1M pop', 'Deaths/\\n1M pop', 'Total\\nTests',\n",
      "       'Tests/\\n1M pop', 'Population'],\n",
      "      dtype='object')\n"
     ]
    }
   ],
   "source": [
    "print(df.columns)"
   ]
  },
  {
   "cell_type": "markdown",
   "id": "0140f43b",
   "metadata": {},
   "source": [
    "Renombramos las columnas para un mejor entendimiento"
   ]
  },
  {
   "cell_type": "code",
   "execution_count": 94,
   "id": "f8b29568",
   "metadata": {},
   "outputs": [],
   "source": [
    "df.rename(columns={'Country,\\nOther':'Paises', 'Total\\nCases':'Casos', 'Total\\nDeaths':'Muertes', \n",
    "                  'New\\nDeaths':'Nuevas muertes', 'Total\\nRecovered':'Recuperados', 'Active\\nCases':'Casos activos',\n",
    "                  'Serious,\\nCritical':'Criticos', 'Tot Cases/\\n1M pop':'Casos 1M per', 'Deaths/\\n1M pop':'Muertes 1M per',\n",
    "                  'Total\\nTests':'Pruebas', 'Tests/\\n1M pop':'Pruebas 1M per', 'Population':'Poblacion'},\n",
    "               inplace=True)"
   ]
  },
  {
   "cell_type": "code",
   "execution_count": 95,
   "id": "547e983f",
   "metadata": {},
   "outputs": [
    {
     "name": "stdout",
     "output_type": "stream",
     "text": [
      "<class 'pandas.core.frame.DataFrame'>\n",
      "RangeIndex: 230 entries, 0 to 229\n",
      "Data columns (total 13 columns):\n",
      " #   Column          Non-Null Count  Dtype  \n",
      "---  ------          --------------  -----  \n",
      " 0   #               230 non-null    int64  \n",
      " 1   Paises          230 non-null    object \n",
      " 2   Casos           230 non-null    object \n",
      " 3   Muertes         225 non-null    object \n",
      " 4   Nuevas muertes  3 non-null      float64\n",
      " 5   Recuperados     214 non-null    object \n",
      " 6   Casos activos   215 non-null    object \n",
      " 7   Criticos        147 non-null    object \n",
      " 8   Casos 1M per    228 non-null    object \n",
      " 9   Muertes 1M per  223 non-null    object \n",
      " 10  Pruebas         214 non-null    object \n",
      " 11  Pruebas 1M per  214 non-null    object \n",
      " 12  Poblacion       228 non-null    object \n",
      "dtypes: float64(1), int64(1), object(11)\n",
      "memory usage: 23.5+ KB\n",
      "None\n"
     ]
    }
   ],
   "source": [
    "print(df.info())"
   ]
  },
  {
   "cell_type": "code",
   "execution_count": 96,
   "id": "f3b26cbf",
   "metadata": {},
   "outputs": [
    {
     "name": "stdout",
     "output_type": "stream",
     "text": [
      "                #  Nuevas muertes\n",
      "count  230.000000             3.0\n",
      "mean   115.500000            18.0\n",
      "std     66.539462            21.0\n",
      "min      1.000000             3.0\n",
      "25%     58.250000             6.0\n",
      "50%    115.500000             9.0\n",
      "75%    172.750000            25.5\n",
      "max    230.000000            42.0\n"
     ]
    }
   ],
   "source": [
    "print(df.describe())"
   ]
  },
  {
   "cell_type": "code",
   "execution_count": 97,
   "id": "b13988f2",
   "metadata": {},
   "outputs": [
    {
     "name": "stdout",
     "output_type": "stream",
     "text": [
      "<bound method IndexOpsMixin.value_counts of 0     NaN\n",
      "1     NaN\n",
      "2     NaN\n",
      "3     NaN\n",
      "4     NaN\n",
      "       ..\n",
      "225   NaN\n",
      "226   NaN\n",
      "227   NaN\n",
      "228   NaN\n",
      "229   NaN\n",
      "Name: Nuevas muertes, Length: 230, dtype: float64>\n"
     ]
    }
   ],
   "source": [
    "print(df['Nuevas muertes'].value_counts)"
   ]
  },
  {
   "cell_type": "markdown",
   "id": "dfc4a6a4",
   "metadata": {},
   "source": [
    "En las anteriores consultas se puede ver que dentro de la columna new deaths tenemos varios nulos, por lo que se prosigue a realizar la siguiente consulta para analizar si los datos dentro de esa columna nos brindan la información necesaria de otra manera sería mejor eliminarla."
   ]
  },
  {
   "cell_type": "code",
   "execution_count": 98,
   "id": "2faae66c",
   "metadata": {},
   "outputs": [
    {
     "name": "stdout",
     "output_type": "stream",
     "text": [
      "NaN     227\n",
      "42.0      1\n",
      "9.0       1\n",
      "3.0       1\n",
      "Name: Nuevas muertes, dtype: int64\n"
     ]
    }
   ],
   "source": [
    "print(df['Nuevas muertes'].value_counts(dropna=False))"
   ]
  },
  {
   "cell_type": "markdown",
   "id": "3f47fb48",
   "metadata": {},
   "source": [
    "Para poder realizar un análisis de datos más preciso y adecuado, es necesario cambiar varios de los tipos de datos que ahora son objetos a string o float según sea el caso, de esta forma podremos filtrar y tener un análisis mucho más claro y preciso."
   ]
  },
  {
   "cell_type": "markdown",
   "id": "a4bce475",
   "metadata": {},
   "source": [
    "1. Procedemos a cambiar a tipo float los datos en las columnas:\n",
    "- Casos.\n",
    "- Muertes.\n",
    "- Cosas activos.\n",
    "- Criticos.\n",
    "- Pruebas.\n",
    "- Pruebas 1M per.\n",
    "- Casos 1M per.\n",
    "- Muertes 1M per.\n",
    "- Poblacion.\n",
    "\n",
    "Para esto es necesario convertirlo primero a string y quitar la coma(,) para despues convertirlo en float."
   ]
  },
  {
   "cell_type": "code",
   "execution_count": 99,
   "id": "0052b862",
   "metadata": {},
   "outputs": [],
   "source": [
    "df['Casos'] = df['Casos'].str.replace(\",\", \"\").astype(float)"
   ]
  },
  {
   "cell_type": "markdown",
   "id": "ec3444c4",
   "metadata": {},
   "source": [
    "Comprobamos que el cambio de tipo se realizo correctamente y procedemos a realizar el cambio de tipo de las demás columnas."
   ]
  },
  {
   "cell_type": "code",
   "execution_count": 100,
   "id": "e26b62ea",
   "metadata": {},
   "outputs": [
    {
     "name": "stdout",
     "output_type": "stream",
     "text": [
      "98166904.0    1\n",
      "63285.0       1\n",
      "62371.0       1\n",
      "61730.0       1\n",
      "57299.0       1\n",
      "             ..\n",
      "658520.0      1\n",
      "644016.0      1\n",
      "622802.0      1\n",
      "620548.0      1\n",
      "9.0           1\n",
      "Name: Casos, Length: 230, dtype: int64\n"
     ]
    }
   ],
   "source": [
    "print(df['Casos'].value_counts(dropna=False))"
   ]
  },
  {
   "cell_type": "code",
   "execution_count": 101,
   "id": "e6b9ca6e",
   "metadata": {},
   "outputs": [
    {
     "name": "stdout",
     "output_type": "stream",
     "text": [
      "<class 'pandas.core.frame.DataFrame'>\n",
      "RangeIndex: 230 entries, 0 to 229\n",
      "Data columns (total 13 columns):\n",
      " #   Column          Non-Null Count  Dtype  \n",
      "---  ------          --------------  -----  \n",
      " 0   #               230 non-null    int64  \n",
      " 1   Paises          230 non-null    object \n",
      " 2   Casos           230 non-null    float64\n",
      " 3   Muertes         225 non-null    object \n",
      " 4   Nuevas muertes  3 non-null      float64\n",
      " 5   Recuperados     214 non-null    object \n",
      " 6   Casos activos   215 non-null    object \n",
      " 7   Criticos        147 non-null    object \n",
      " 8   Casos 1M per    228 non-null    object \n",
      " 9   Muertes 1M per  223 non-null    object \n",
      " 10  Pruebas         214 non-null    object \n",
      " 11  Pruebas 1M per  214 non-null    object \n",
      " 12  Poblacion       228 non-null    object \n",
      "dtypes: float64(2), int64(1), object(10)\n",
      "memory usage: 23.5+ KB\n",
      "None\n"
     ]
    }
   ],
   "source": [
    "print(df.info())"
   ]
  },
  {
   "cell_type": "code",
   "execution_count": 102,
   "id": "3fc74d57",
   "metadata": {},
   "outputs": [],
   "source": [
    "df['Muertes'] = df['Muertes'].str.replace(\",\", \"\").astype(float)\n",
    "df['Casos activos'] = df['Casos activos'].str.replace(\",\", \"\").astype(float)\n",
    "df['Casos 1M per'] = df['Casos 1M per'].str.replace(\",\", \"\").astype(float)\n",
    "df['Muertes 1M per'] = df['Muertes 1M per'].str.replace(\",\", \"\").astype(float)\n",
    "df['Criticos'] = df['Criticos'].str.replace(\",\", \"\").astype(float)\n",
    "df['Pruebas 1M per'] = df['Pruebas 1M per'].str.replace(\",\", \"\").astype(float)\n",
    "df['Pruebas'] = df['Pruebas'].str.replace(\",\", \"\").astype(float)\n",
    "df['Poblacion'] = df['Poblacion'].str.replace(\",\", \"\").astype(float)"
   ]
  },
  {
   "cell_type": "code",
   "execution_count": 103,
   "id": "f0acf744",
   "metadata": {},
   "outputs": [
    {
     "name": "stdout",
     "output_type": "stream",
     "text": [
      "       #          Paises  Casos  Muertes  Nuevas muertes Recuperados  \\\n",
      "225  226            Niue   80.0      NaN             NaN          80   \n",
      "226  227    Vatican City   29.0      NaN             NaN          29   \n",
      "227  228          Tuvalu   20.0      NaN             NaN         NaN   \n",
      "228  229  Western Sahara   10.0      1.0             NaN           9   \n",
      "229  230      MS Zaandam    9.0      2.0             NaN           7   \n",
      "\n",
      "     Casos activos  Criticos  Casos 1M per  Muertes 1M per  Pruebas  \\\n",
      "225            0.0       NaN       49322.0             NaN      NaN   \n",
      "226            0.0       NaN       36295.0             NaN      NaN   \n",
      "227           20.0       NaN        1658.0             NaN      NaN   \n",
      "228            0.0       NaN          16.0             2.0      NaN   \n",
      "229            0.0       NaN           NaN             NaN      NaN   \n",
      "\n",
      "     Pruebas 1M per  Poblacion  \n",
      "225             NaN     1622.0  \n",
      "226             NaN      799.0  \n",
      "227             NaN    12066.0  \n",
      "228             NaN   626161.0  \n",
      "229             NaN        NaN  \n"
     ]
    }
   ],
   "source": [
    "print(df.tail())"
   ]
  },
  {
   "cell_type": "markdown",
   "id": "a3cd189c",
   "metadata": {},
   "source": [
    "Convertir la columna Country a tipo String."
   ]
  },
  {
   "cell_type": "code",
   "execution_count": 104,
   "id": "6a0387ae",
   "metadata": {},
   "outputs": [
    {
     "name": "stdout",
     "output_type": "stream",
     "text": [
      "<class 'pandas.core.frame.DataFrame'>\n",
      "RangeIndex: 230 entries, 0 to 229\n",
      "Data columns (total 13 columns):\n",
      " #   Column          Non-Null Count  Dtype  \n",
      "---  ------          --------------  -----  \n",
      " 0   #               230 non-null    int64  \n",
      " 1   Paises          230 non-null    object \n",
      " 2   Casos           230 non-null    float64\n",
      " 3   Muertes         225 non-null    float64\n",
      " 4   Nuevas muertes  3 non-null      float64\n",
      " 5   Recuperados     214 non-null    object \n",
      " 6   Casos activos   215 non-null    float64\n",
      " 7   Criticos        147 non-null    float64\n",
      " 8   Casos 1M per    228 non-null    float64\n",
      " 9   Muertes 1M per  223 non-null    float64\n",
      " 10  Pruebas         214 non-null    float64\n",
      " 11  Pruebas 1M per  214 non-null    float64\n",
      " 12  Poblacion       228 non-null    float64\n",
      "dtypes: float64(10), int64(1), object(2)\n",
      "memory usage: 23.5+ KB\n",
      "None\n"
     ]
    }
   ],
   "source": [
    "print(df.info())"
   ]
  },
  {
   "cell_type": "code",
   "execution_count": 105,
   "id": "efeb9a8c",
   "metadata": {},
   "outputs": [
    {
     "data": {
      "text/plain": [
       "['#',\n",
       " 'Paises',\n",
       " 'Casos',\n",
       " 'Muertes',\n",
       " 'Nuevas muertes',\n",
       " 'Recuperados',\n",
       " 'Casos activos',\n",
       " 'Criticos',\n",
       " 'Casos 1M per',\n",
       " 'Muertes 1M per',\n",
       " 'Pruebas',\n",
       " 'Pruebas 1M per',\n",
       " 'Poblacion']"
      ]
     },
     "execution_count": 105,
     "metadata": {},
     "output_type": "execute_result"
    }
   ],
   "source": [
    "nombres_columnas = df.columns.values.tolist()\n",
    "nombres_columnas"
   ]
  },
  {
   "cell_type": "markdown",
   "id": "8f31ecb8",
   "metadata": {},
   "source": [
    "Se decide eliminar la columna Nueva muertes debido a que la gran mayoría de los datos son nulos y no nos brinda la información necesaria. Además, se eliminará la columna Total de recuperados ya que el 99% de los datos fueron perdidos según la documentación de la fuente de datos."
   ]
  },
  {
   "cell_type": "code",
   "execution_count": 106,
   "id": "e97f8d2b",
   "metadata": {},
   "outputs": [],
   "source": [
    "df = df.drop(['Nuevas muertes'], axis=1)\n",
    "df = df.drop(['Recuperados'], axis=1)"
   ]
  },
  {
   "cell_type": "code",
   "execution_count": 107,
   "id": "89aadeac",
   "metadata": {},
   "outputs": [
    {
     "data": {
      "text/html": [
       "<div>\n",
       "<style scoped>\n",
       "    .dataframe tbody tr th:only-of-type {\n",
       "        vertical-align: middle;\n",
       "    }\n",
       "\n",
       "    .dataframe tbody tr th {\n",
       "        vertical-align: top;\n",
       "    }\n",
       "\n",
       "    .dataframe thead th {\n",
       "        text-align: right;\n",
       "    }\n",
       "</style>\n",
       "<table border=\"1\" class=\"dataframe\">\n",
       "  <thead>\n",
       "    <tr style=\"text-align: right;\">\n",
       "      <th></th>\n",
       "      <th>Paises</th>\n",
       "      <th>Casos</th>\n",
       "      <th>Muertes</th>\n",
       "      <th>Casos activos</th>\n",
       "      <th>Criticos</th>\n",
       "      <th>Casos 1M per</th>\n",
       "      <th>Muertes 1M per</th>\n",
       "      <th>Pruebas</th>\n",
       "      <th>Pruebas 1M per</th>\n",
       "      <th>Poblacion</th>\n",
       "    </tr>\n",
       "    <tr>\n",
       "      <th>#</th>\n",
       "      <th></th>\n",
       "      <th></th>\n",
       "      <th></th>\n",
       "      <th></th>\n",
       "      <th></th>\n",
       "      <th></th>\n",
       "      <th></th>\n",
       "      <th></th>\n",
       "      <th></th>\n",
       "      <th></th>\n",
       "    </tr>\n",
       "  </thead>\n",
       "  <tbody>\n",
       "    <tr>\n",
       "      <th>1</th>\n",
       "      <td>USA</td>\n",
       "      <td>98166904.0</td>\n",
       "      <td>1084282.0</td>\n",
       "      <td>2120510.0</td>\n",
       "      <td>2970.0</td>\n",
       "      <td>293206.0</td>\n",
       "      <td>3239.0</td>\n",
       "      <td>1.118159e+09</td>\n",
       "      <td>3339729.0</td>\n",
       "      <td>3.348053e+08</td>\n",
       "    </tr>\n",
       "    <tr>\n",
       "      <th>2</th>\n",
       "      <td>India</td>\n",
       "      <td>44587307.0</td>\n",
       "      <td>528629.0</td>\n",
       "      <td>39583.0</td>\n",
       "      <td>698.0</td>\n",
       "      <td>31698.0</td>\n",
       "      <td>376.0</td>\n",
       "      <td>8.944169e+08</td>\n",
       "      <td>635857.0</td>\n",
       "      <td>1.406632e+09</td>\n",
       "    </tr>\n",
       "    <tr>\n",
       "      <th>3</th>\n",
       "      <td>France</td>\n",
       "      <td>35342950.0</td>\n",
       "      <td>155078.0</td>\n",
       "      <td>660757.0</td>\n",
       "      <td>869.0</td>\n",
       "      <td>538892.0</td>\n",
       "      <td>2365.0</td>\n",
       "      <td>2.714902e+08</td>\n",
       "      <td>4139547.0</td>\n",
       "      <td>6.558452e+07</td>\n",
       "    </tr>\n",
       "    <tr>\n",
       "      <th>4</th>\n",
       "      <td>Brazil</td>\n",
       "      <td>34706757.0</td>\n",
       "      <td>686027.0</td>\n",
       "      <td>182094.0</td>\n",
       "      <td>8318.0</td>\n",
       "      <td>161162.0</td>\n",
       "      <td>3186.0</td>\n",
       "      <td>6.377617e+07</td>\n",
       "      <td>296146.0</td>\n",
       "      <td>2.153536e+08</td>\n",
       "    </tr>\n",
       "    <tr>\n",
       "      <th>5</th>\n",
       "      <td>Germany</td>\n",
       "      <td>33312373.0</td>\n",
       "      <td>149948.0</td>\n",
       "      <td>847225.0</td>\n",
       "      <td>1406.0</td>\n",
       "      <td>397126.0</td>\n",
       "      <td>1788.0</td>\n",
       "      <td>1.223324e+08</td>\n",
       "      <td>1458359.0</td>\n",
       "      <td>8.388360e+07</td>\n",
       "    </tr>\n",
       "    <tr>\n",
       "      <th>...</th>\n",
       "      <td>...</td>\n",
       "      <td>...</td>\n",
       "      <td>...</td>\n",
       "      <td>...</td>\n",
       "      <td>...</td>\n",
       "      <td>...</td>\n",
       "      <td>...</td>\n",
       "      <td>...</td>\n",
       "      <td>...</td>\n",
       "      <td>...</td>\n",
       "    </tr>\n",
       "    <tr>\n",
       "      <th>226</th>\n",
       "      <td>Niue</td>\n",
       "      <td>80.0</td>\n",
       "      <td>NaN</td>\n",
       "      <td>0.0</td>\n",
       "      <td>NaN</td>\n",
       "      <td>49322.0</td>\n",
       "      <td>NaN</td>\n",
       "      <td>NaN</td>\n",
       "      <td>NaN</td>\n",
       "      <td>1.622000e+03</td>\n",
       "    </tr>\n",
       "    <tr>\n",
       "      <th>227</th>\n",
       "      <td>Vatican City</td>\n",
       "      <td>29.0</td>\n",
       "      <td>NaN</td>\n",
       "      <td>0.0</td>\n",
       "      <td>NaN</td>\n",
       "      <td>36295.0</td>\n",
       "      <td>NaN</td>\n",
       "      <td>NaN</td>\n",
       "      <td>NaN</td>\n",
       "      <td>7.990000e+02</td>\n",
       "    </tr>\n",
       "    <tr>\n",
       "      <th>228</th>\n",
       "      <td>Tuvalu</td>\n",
       "      <td>20.0</td>\n",
       "      <td>NaN</td>\n",
       "      <td>20.0</td>\n",
       "      <td>NaN</td>\n",
       "      <td>1658.0</td>\n",
       "      <td>NaN</td>\n",
       "      <td>NaN</td>\n",
       "      <td>NaN</td>\n",
       "      <td>1.206600e+04</td>\n",
       "    </tr>\n",
       "    <tr>\n",
       "      <th>229</th>\n",
       "      <td>Western Sahara</td>\n",
       "      <td>10.0</td>\n",
       "      <td>1.0</td>\n",
       "      <td>0.0</td>\n",
       "      <td>NaN</td>\n",
       "      <td>16.0</td>\n",
       "      <td>2.0</td>\n",
       "      <td>NaN</td>\n",
       "      <td>NaN</td>\n",
       "      <td>6.261610e+05</td>\n",
       "    </tr>\n",
       "    <tr>\n",
       "      <th>230</th>\n",
       "      <td>MS Zaandam</td>\n",
       "      <td>9.0</td>\n",
       "      <td>2.0</td>\n",
       "      <td>0.0</td>\n",
       "      <td>NaN</td>\n",
       "      <td>NaN</td>\n",
       "      <td>NaN</td>\n",
       "      <td>NaN</td>\n",
       "      <td>NaN</td>\n",
       "      <td>NaN</td>\n",
       "    </tr>\n",
       "  </tbody>\n",
       "</table>\n",
       "<p>230 rows × 10 columns</p>\n",
       "</div>"
      ],
      "text/plain": [
       "             Paises       Casos    Muertes  Casos activos  Criticos  \\\n",
       "#                                                                     \n",
       "1               USA  98166904.0  1084282.0      2120510.0    2970.0   \n",
       "2             India  44587307.0   528629.0        39583.0     698.0   \n",
       "3            France  35342950.0   155078.0       660757.0     869.0   \n",
       "4            Brazil  34706757.0   686027.0       182094.0    8318.0   \n",
       "5           Germany  33312373.0   149948.0       847225.0    1406.0   \n",
       "..              ...         ...        ...            ...       ...   \n",
       "226            Niue        80.0        NaN            0.0       NaN   \n",
       "227    Vatican City        29.0        NaN            0.0       NaN   \n",
       "228          Tuvalu        20.0        NaN           20.0       NaN   \n",
       "229  Western Sahara        10.0        1.0            0.0       NaN   \n",
       "230      MS Zaandam         9.0        2.0            0.0       NaN   \n",
       "\n",
       "     Casos 1M per  Muertes 1M per       Pruebas  Pruebas 1M per     Poblacion  \n",
       "#                                                                              \n",
       "1        293206.0          3239.0  1.118159e+09       3339729.0  3.348053e+08  \n",
       "2         31698.0           376.0  8.944169e+08        635857.0  1.406632e+09  \n",
       "3        538892.0          2365.0  2.714902e+08       4139547.0  6.558452e+07  \n",
       "4        161162.0          3186.0  6.377617e+07        296146.0  2.153536e+08  \n",
       "5        397126.0          1788.0  1.223324e+08       1458359.0  8.388360e+07  \n",
       "..            ...             ...           ...             ...           ...  \n",
       "226       49322.0             NaN           NaN             NaN  1.622000e+03  \n",
       "227       36295.0             NaN           NaN             NaN  7.990000e+02  \n",
       "228        1658.0             NaN           NaN             NaN  1.206600e+04  \n",
       "229          16.0             2.0           NaN             NaN  6.261610e+05  \n",
       "230           NaN             NaN           NaN             NaN           NaN  \n",
       "\n",
       "[230 rows x 10 columns]"
      ]
     },
     "execution_count": 107,
     "metadata": {},
     "output_type": "execute_result"
    }
   ],
   "source": [
    "df.set_index('#')"
   ]
  },
  {
   "cell_type": "code",
   "execution_count": 47,
   "id": "ef48b8f2",
   "metadata": {},
   "outputs": [
    {
     "name": "stdout",
     "output_type": "stream",
     "text": [
      "       # Country,\\nOther  Total\\nCases  Total\\nDeaths  Active\\nCases  \\\n",
      "225  226            Niue          80.0            NaN            0.0   \n",
      "226  227    Vatican City          29.0            NaN            0.0   \n",
      "227  228          Tuvalu          20.0            NaN           20.0   \n",
      "228  229  Western Sahara          10.0            1.0            0.0   \n",
      "229  230      MS Zaandam           9.0            2.0            0.0   \n",
      "\n",
      "     Serious,\\nCritical  Tot Cases/\\n1M pop  Deaths/\\n1M pop  Total\\nTests  \\\n",
      "225                 NaN             49322.0              NaN           NaN   \n",
      "226                 NaN             36295.0              NaN           NaN   \n",
      "227                 NaN              1658.0              NaN           NaN   \n",
      "228                 NaN                16.0              2.0           NaN   \n",
      "229                 NaN                 NaN              NaN           NaN   \n",
      "\n",
      "     Tests/\\n1M pop  Population  \n",
      "225             NaN      1622.0  \n",
      "226             NaN       799.0  \n",
      "227             NaN     12066.0  \n",
      "228             NaN    626161.0  \n",
      "229             NaN         NaN  \n"
     ]
    }
   ],
   "source": [
    "print(df.tail())"
   ]
  },
  {
   "cell_type": "markdown",
   "id": "48c729b6",
   "metadata": {},
   "source": [
    "Remplazamos los valores nulos por ceros(0)."
   ]
  },
  {
   "cell_type": "code",
   "execution_count": 108,
   "id": "58f0fb64",
   "metadata": {},
   "outputs": [],
   "source": [
    "df['Casos'].fillna(0, inplace=True)\n",
    "df['Muertes'].fillna(0, inplace=True)\n",
    "df['Casos activos'].fillna(0, inplace=True)\n",
    "df['Casos 1M per'].fillna(0, inplace=True)\n",
    "df['Muertes 1M per'].fillna(0, inplace=True)\n",
    "df['Criticos'].fillna(0, inplace=True)\n",
    "df['Pruebas 1M per'].fillna(0, inplace=True)\n",
    "df['Pruebas'].fillna(0, inplace=True)\n",
    "df['Poblacion'].fillna(0, inplace=True)"
   ]
  },
  {
   "cell_type": "code",
   "execution_count": 109,
   "id": "8f76aca8",
   "metadata": {},
   "outputs": [
    {
     "name": "stdout",
     "output_type": "stream",
     "text": [
      "       #          Paises  Casos  Muertes  Casos activos  Criticos  \\\n",
      "225  226            Niue   80.0      0.0            0.0       0.0   \n",
      "226  227    Vatican City   29.0      0.0            0.0       0.0   \n",
      "227  228          Tuvalu   20.0      0.0           20.0       0.0   \n",
      "228  229  Western Sahara   10.0      1.0            0.0       0.0   \n",
      "229  230      MS Zaandam    9.0      2.0            0.0       0.0   \n",
      "\n",
      "     Casos 1M per  Muertes 1M per  Pruebas  Pruebas 1M per  Poblacion  \n",
      "225       49322.0             0.0      0.0             0.0     1622.0  \n",
      "226       36295.0             0.0      0.0             0.0      799.0  \n",
      "227        1658.0             0.0      0.0             0.0    12066.0  \n",
      "228          16.0             2.0      0.0             0.0   626161.0  \n",
      "229           0.0             0.0      0.0             0.0        0.0  \n"
     ]
    }
   ],
   "source": [
    "print(df.tail())"
   ]
  },
  {
   "cell_type": "code",
   "execution_count": 113,
   "id": "85cfa749",
   "metadata": {},
   "outputs": [],
   "source": [
    "final=df.set_index('#')"
   ]
  },
  {
   "cell_type": "code",
   "execution_count": 114,
   "id": "76fbfec9",
   "metadata": {},
   "outputs": [],
   "source": [
    "final.to_csv('final.csv')"
   ]
  },
  {
   "cell_type": "code",
   "execution_count": null,
   "id": "c0edc671",
   "metadata": {},
   "outputs": [],
   "source": []
  }
 ],
 "metadata": {
  "kernelspec": {
   "display_name": "Python 3 (ipykernel)",
   "language": "python",
   "name": "python3"
  },
  "language_info": {
   "codemirror_mode": {
    "name": "ipython",
    "version": 3
   },
   "file_extension": ".py",
   "mimetype": "text/x-python",
   "name": "python",
   "nbconvert_exporter": "python",
   "pygments_lexer": "ipython3",
   "version": "3.10.5"
  }
 },
 "nbformat": 4,
 "nbformat_minor": 5
}
